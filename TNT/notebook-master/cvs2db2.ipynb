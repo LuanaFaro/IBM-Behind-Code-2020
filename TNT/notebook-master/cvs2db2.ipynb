{
    "cells": [
        {
            "cell_type": "code",
            "execution_count": 20,
            "metadata": {},
            "outputs": [],
            "source": "import pandas as pd\nfrom sqlalchemy import create_engine, MetaData, Table, Column, Integer, String, Date, Numeric, DateTime\nfrom sqlalchemy.orm import scoped_session, sessionmaker\nfrom sqlalchemy.ext.automap import automap_base"
        },
        {
            "cell_type": "code",
            "execution_count": 21,
            "metadata": {},
            "outputs": [],
            "source": "# The code was removed by Watson Studio for sharing."
        },
        {
            "cell_type": "code",
            "execution_count": 22,
            "metadata": {},
            "outputs": [],
            "source": "#Connect to DB2\nconnection_string = \"db2+ibm_db://\" + user + \":\" + pwd + \"@dashdb-txn-flex-yp-dal13-43.services.dal.bluemix.net:50000/BLUDB\"\n"
        },
        {
            "cell_type": "code",
            "execution_count": 23,
            "metadata": {},
            "outputs": [],
            "source": "\nengine = create_engine(connection_string, echo=False)\nmeta = MetaData()\n\nnome_tabela = 'COVID'\n\ncovid = Table('covid', meta, \n    Column(\"DATE\", Date),\n    Column(\"TYPE\", String(30)),\n    Column(\"CASES\", Integer),\n    Column(\"DIFFERENCE\", Integer),\n    Column(\"COUNTRY\", String(50)),\n    Column(\"PROVINCE_STATE\", String(50)), \n    Column(\"LAT\", Numeric(18,8)),\n    Column(\"LONG\", Numeric(18,8)),\n    Column(\"LATEST_DATE\", DateTime))\n\ndropTable = True\n\nif not engine.dialect.has_table(engine, nome_tabela, schema = 'BLUADMIN'):\n    meta.create_all(engine)\nelse:\n    if dropTable:\n        covid.drop(engine) # Apaga tabela\n        meta.create_all(engine) # Cria tabela\n    conn = engine.connect()\n    #stmt = covid.delete().where(students.c.lastname == 'Khanna')\n    stmt = covid.delete()\n    conn.execute(stmt)\n    conn.close()"
        },
        {
            "cell_type": "code",
            "execution_count": 24,
            "metadata": {},
            "outputs": [],
            "source": "Base = automap_base()\n\n#engine = create_engine(connection_string, echo=True)\nsession = scoped_session(sessionmaker(autocommit=True,\n                                      autoflush=False,\n                                      bind=engine))\n\nBase.prepare(engine, reflect=True)\nbase_sa = Base.classes"
        },
        {
            "cell_type": "code",
            "execution_count": 25,
            "metadata": {},
            "outputs": [
                {
                    "data": {
                        "text/html": "<div>\n<style scoped>\n    .dataframe tbody tr th:only-of-type {\n        vertical-align: middle;\n    }\n\n    .dataframe tbody tr th {\n        vertical-align: top;\n    }\n\n    .dataframe thead th {\n        text-align: right;\n    }\n</style>\n<table border=\"1\" class=\"dataframe\">\n  <thead>\n    <tr style=\"text-align: right;\">\n      <th></th>\n      <th>DATE</th>\n      <th>TYPE</th>\n      <th>CASES</th>\n      <th>DIFFERENCE</th>\n      <th>COUNTRY</th>\n      <th>PROVINCE_STATE</th>\n      <th>LAT</th>\n      <th>LONG</th>\n      <th>LATEST_DATE</th>\n    </tr>\n  </thead>\n  <tbody>\n    <tr>\n      <th>0</th>\n      <td>2020-06-04</td>\n      <td>Confirmed</td>\n      <td>3262</td>\n      <td>152</td>\n      <td>Cote d'Ivoire</td>\n      <td>NaN</td>\n      <td>7.540000</td>\n      <td>-5.547100</td>\n      <td>2020-06-04T23:15:39</td>\n    </tr>\n    <tr>\n      <th>1</th>\n      <td>2020-06-04</td>\n      <td>Deaths</td>\n      <td>0</td>\n      <td>0</td>\n      <td>Eritrea</td>\n      <td>NaN</td>\n      <td>15.179400</td>\n      <td>39.782300</td>\n      <td>2020-06-04T23:15:39</td>\n    </tr>\n    <tr>\n      <th>2</th>\n      <td>2020-06-04</td>\n      <td>Deaths</td>\n      <td>1</td>\n      <td>0</td>\n      <td>France</td>\n      <td>French Guiana</td>\n      <td>4.000000</td>\n      <td>-53.000000</td>\n      <td>2020-06-04T23:15:39</td>\n    </tr>\n    <tr>\n      <th>3</th>\n      <td>2020-06-04</td>\n      <td>Confirmed</td>\n      <td>298</td>\n      <td>0</td>\n      <td>Canada</td>\n      <td>Manitoba</td>\n      <td>53.760900</td>\n      <td>-98.813900</td>\n      <td>2020-06-04T23:15:39</td>\n    </tr>\n    <tr>\n      <th>4</th>\n      <td>2020-06-04</td>\n      <td>Confirmed</td>\n      <td>20</td>\n      <td>0</td>\n      <td>France</td>\n      <td>New Caledonia</td>\n      <td>-20.904305</td>\n      <td>165.618042</td>\n      <td>2020-06-04T23:15:39</td>\n    </tr>\n  </tbody>\n</table>\n</div>",
                        "text/plain": "         DATE       TYPE  CASES  DIFFERENCE        COUNTRY PROVINCE_STATE  \\\n0  2020-06-04  Confirmed   3262         152  Cote d'Ivoire            NaN   \n1  2020-06-04     Deaths      0           0        Eritrea            NaN   \n2  2020-06-04     Deaths      1           0         France  French Guiana   \n3  2020-06-04  Confirmed    298           0         Canada       Manitoba   \n4  2020-06-04  Confirmed     20           0         France  New Caledonia   \n\n         LAT        LONG          LATEST_DATE  \n0   7.540000   -5.547100  2020-06-04T23:15:39  \n1  15.179400   39.782300  2020-06-04T23:15:39  \n2   4.000000  -53.000000  2020-06-04T23:15:39  \n3  53.760900  -98.813900  2020-06-04T23:15:39  \n4 -20.904305  165.618042  2020-06-04T23:15:39  "
                    },
                    "execution_count": 25,
                    "metadata": {},
                    "output_type": "execute_result"
                }
            ],
            "source": "df = pd.read_csv('https://download.data.world/s/3xpcwdh7es3o6uqyztkkhdnh4ht7i7')\ndf.head()"
        },
        {
            "cell_type": "code",
            "execution_count": 26,
            "metadata": {},
            "outputs": [],
            "source": "nome_tabela = 'covid'"
        },
        {
            "cell_type": "code",
            "execution_count": 27,
            "metadata": {
                "scrolled": true
            },
            "outputs": [],
            "source": "df.to_sql(name=nome_tabela, con=engine, if_exists='append', index=False)\n#df.to_sql(name=nome_tabela, con=engine, if_exists='append', index=False, chunksize=1000)   # With number of records to be processed each time"
        },
        {
            "cell_type": "code",
            "execution_count": 28,
            "metadata": {},
            "outputs": [
                {
                    "data": {
                        "text/html": "<div>\n<style scoped>\n    .dataframe tbody tr th:only-of-type {\n        vertical-align: middle;\n    }\n\n    .dataframe tbody tr th {\n        vertical-align: top;\n    }\n\n    .dataframe thead th {\n        text-align: right;\n    }\n</style>\n<table border=\"1\" class=\"dataframe\">\n  <thead>\n    <tr style=\"text-align: right;\">\n      <th></th>\n      <th>DATE</th>\n      <th>TYPE</th>\n      <th>cases</th>\n      <th>difference</th>\n      <th>country</th>\n      <th>province_state</th>\n      <th>lat</th>\n      <th>LONG</th>\n      <th>latest_date</th>\n    </tr>\n  </thead>\n  <tbody>\n    <tr>\n      <th>0</th>\n      <td>2020-06-04</td>\n      <td>Confirmed</td>\n      <td>3262</td>\n      <td>152</td>\n      <td>Cote d'Ivoire</td>\n      <td>None</td>\n      <td>7.540000</td>\n      <td>-5.547100</td>\n      <td>2020-06-04 23:15:39</td>\n    </tr>\n    <tr>\n      <th>1</th>\n      <td>2020-06-04</td>\n      <td>Deaths</td>\n      <td>0</td>\n      <td>0</td>\n      <td>Eritrea</td>\n      <td>None</td>\n      <td>15.179400</td>\n      <td>39.782300</td>\n      <td>2020-06-04 23:15:39</td>\n    </tr>\n    <tr>\n      <th>2</th>\n      <td>2020-06-04</td>\n      <td>Deaths</td>\n      <td>1</td>\n      <td>0</td>\n      <td>France</td>\n      <td>French Guiana</td>\n      <td>4.000000</td>\n      <td>-53.000000</td>\n      <td>2020-06-04 23:15:39</td>\n    </tr>\n    <tr>\n      <th>3</th>\n      <td>2020-06-04</td>\n      <td>Confirmed</td>\n      <td>298</td>\n      <td>0</td>\n      <td>Canada</td>\n      <td>Manitoba</td>\n      <td>53.760900</td>\n      <td>-98.813900</td>\n      <td>2020-06-04 23:15:39</td>\n    </tr>\n    <tr>\n      <th>4</th>\n      <td>2020-06-04</td>\n      <td>Confirmed</td>\n      <td>20</td>\n      <td>0</td>\n      <td>France</td>\n      <td>New Caledonia</td>\n      <td>-20.904305</td>\n      <td>165.618042</td>\n      <td>2020-06-04 23:15:39</td>\n    </tr>\n  </tbody>\n</table>\n</div>",
                        "text/plain": "        DATE       TYPE  cases  difference        country province_state  \\\n0 2020-06-04  Confirmed   3262         152  Cote d'Ivoire           None   \n1 2020-06-04     Deaths      0           0        Eritrea           None   \n2 2020-06-04     Deaths      1           0         France  French Guiana   \n3 2020-06-04  Confirmed    298           0         Canada       Manitoba   \n4 2020-06-04  Confirmed     20           0         France  New Caledonia   \n\n         lat        LONG         latest_date  \n0   7.540000   -5.547100 2020-06-04 23:15:39  \n1  15.179400   39.782300 2020-06-04 23:15:39  \n2   4.000000  -53.000000 2020-06-04 23:15:39  \n3  53.760900  -98.813900 2020-06-04 23:15:39  \n4 -20.904305  165.618042 2020-06-04 23:15:39  "
                    },
                    "execution_count": 28,
                    "metadata": {},
                    "output_type": "execute_result"
                }
            ],
            "source": "df2 = pd.read_sql_table(nome_tabela, engine)\ndf2.head()"
        },
        {
            "cell_type": "code",
            "execution_count": 29,
            "metadata": {},
            "outputs": [],
            "source": "session.close()"
        },
        {
            "cell_type": "code",
            "execution_count": null,
            "metadata": {},
            "outputs": [],
            "source": ""
        }
    ],
    "metadata": {
        "kernelspec": {
            "display_name": "Python 3.6",
            "language": "python",
            "name": "python3"
        },
        "language_info": {
            "codemirror_mode": {
                "name": "ipython",
                "version": 3
            },
            "file_extension": ".py",
            "mimetype": "text/x-python",
            "name": "python",
            "nbconvert_exporter": "python",
            "pygments_lexer": "ipython3",
            "version": "3.6.9"
        }
    },
    "nbformat": 4,
    "nbformat_minor": 1
}