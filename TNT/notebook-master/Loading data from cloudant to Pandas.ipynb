{
 "cells": [
  {
   "cell_type": "code",
   "execution_count": null,
   "metadata": {},
   "outputs": [],
   "source": [
    "!pip install cloudant"
   ]
  },
  {
   "cell_type": "code",
   "execution_count": null,
   "metadata": {},
   "outputs": [],
   "source": [
    "from cloudant import Cloudant\n",
    "# PEGAR AS INFROMAÇÕES ABAIXO NA ABA CREDENTIALS DO SERVIÇO DE CLOUDANT NA IBM CLOUD\n",
    "u = '<USERNAME>'\n",
    "p = '<PASSWORD>'\n",
    "a = '<USERNAME>' # SIM, O ENDPOINT CIRADO PARA O SEU CLOUD É O MESMO QUE O USUÁRIO :-)\n",
    "client = Cloudant(u, p, account=a, connect=True, auto_renew=True)"
   ]
  },
  {
   "cell_type": "code",
   "execution_count": null,
   "metadata": {},
   "outputs": [],
   "source": [
    "\n",
    "db = client['<DB-NAME>'] # NOME DO DB CRIADO NO CLOUDANT"
   ]
  },
  {
   "cell_type": "code",
   "execution_count": null,
   "metadata": {},
   "outputs": [],
   "source": [
    "response = db.all_docs(limit=500, include_docs= True)\n",
    "\n",
    "# put document bodies into an array\n",
    "docs = []\n",
    "for r in response['rows']:\n",
    "    docs.append(r['doc']) # CASO TENHA USADO O NODE-RED E GRAVADO TODO O MSG USE: docs.append(r['doc']['payload'])\n",
    "type(docs)"
   ]
  },
  {
   "cell_type": "code",
   "execution_count": null,
   "metadata": {
    "pixiedust": {
     "displayParams": {
      "brunelMapType": "Heat Map",
      "chartsize": "97",
      "coloropacity": "65",
      "handlerId": "mapView",
      "keyFields": "LAT,LONG",
      "mapboxtoken": "pk.eyJ1IjoibWFwYm94IiwiYSI6ImNpejY4M29iazA2Z2gycXA4N2pmbDZmangifQ.-g_vE53SD2WrJ6tFX7QHmA",
      "numbins": "16",
      "rendererId": "mapbox"
     }
    }
   },
   "outputs": [],
   "source": [
    "# create a Pandas dataframe containing the data\n",
    "import pandas as pd\n",
    "df = pd.DataFrame(data=docs)\n",
    "\n",
    "#df[\"LAT\"] = df[\"LAT\"].astype(float)\n",
    "#df[\"LONG\"] = df[\"LONG\"].astype(float)\n",
    "\n",
    "df.head()"
   ]
  },
  {
   "cell_type": "code",
   "execution_count": null,
   "metadata": {
    "pixiedust": {
     "displayParams": {
      "colorrampname": "Light to Dark Red",
      "handlerId": "mapView",
      "keyFields": "LONG,LAT",
      "kind": "simple-cluster",
      "mapboxtoken": "pk.eyJ1IjoibWFwYm94IiwiYSI6ImNpejY4M29iazA2Z2gycXA4N2pmbDZmangifQ.-g_vE53SD2WrJ6tFX7QHmA",
      "valueFields": "Estação"
     }
    }
   },
   "outputs": [],
   "source": [
    "#import pixiedust\n",
    "#display(df)"
   ]
  },
  {
   "cell_type": "code",
   "execution_count": null,
   "metadata": {},
   "outputs": [],
   "source": []
  }
 ],
 "metadata": {
  "kernelspec": {
   "display_name": "Python 3.6",
   "language": "python",
   "name": "python3"
  },
  "language_info": {
   "codemirror_mode": {
    "name": "ipython",
    "version": 3
   },
   "file_extension": ".py",
   "mimetype": "text/x-python",
   "name": "python",
   "nbconvert_exporter": "python",
   "pygments_lexer": "ipython3",
   "version": "3.6.9"
  }
 },
 "nbformat": 4,
 "nbformat_minor": 1
}
