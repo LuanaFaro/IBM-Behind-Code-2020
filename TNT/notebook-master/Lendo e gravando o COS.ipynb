{
    "cells": [
        {
            "cell_type": "code",
            "execution_count": 6,
            "metadata": {},
            "outputs": [],
            "source": "\nimport types\nimport pandas as pd\nfrom botocore.client import Config\nimport ibm_boto3\n\ndef __iter__(self): return 0\n\n# The following code accesses a file in your IBM Cloud Object Storage. It includes your credentials.\n# You might want to remove those credentials before you share the notebook.\ncos = ibm_boto3.client(service_name='s3',\n    ibm_api_key_id=\"<COS API Key>\",\n    ibm_auth_endpoint=\"https://iam.ng.bluemix.net/oidc/token\",\n    config=Config(signature_version='oauth'),\n    endpoint_url='https://s3-api.us-geo.objectstorage.service.networklayer.com')"
        },
        {
            "cell_type": "code",
            "execution_count": 7,
            "metadata": {},
            "outputs": [],
            "source": "# The code was removed by Watson Studio for sharing."
        },
        {
            "cell_type": "code",
            "execution_count": 8,
            "metadata": {},
            "outputs": [
                {
                    "data": {
                        "text/html": "<div>\n<style scoped>\n    .dataframe tbody tr th:only-of-type {\n        vertical-align: middle;\n    }\n\n    .dataframe tbody tr th {\n        vertical-align: top;\n    }\n\n    .dataframe thead th {\n        text-align: right;\n    }\n</style>\n<table border=\"1\" class=\"dataframe\">\n  <thead>\n    <tr style=\"text-align: right;\">\n      <th></th>\n      <th>AVGHEARTBEATSPERMIN</th>\n      <th>PALPITATIONSPERDAY</th>\n      <th>CHOLESTEROL</th>\n      <th>BMI</th>\n      <th>HEARTFAILURE</th>\n      <th>AGE</th>\n      <th>SEX</th>\n      <th>FAMILYHISTORY</th>\n      <th>SMOKERLAST5YRS</th>\n      <th>EXERCISEMINPERWEEK</th>\n    </tr>\n  </thead>\n  <tbody>\n    <tr>\n      <th>0</th>\n      <td>93</td>\n      <td>22</td>\n      <td>163</td>\n      <td>25</td>\n      <td>N</td>\n      <td>49</td>\n      <td>F</td>\n      <td>N</td>\n      <td>N</td>\n      <td>110</td>\n    </tr>\n    <tr>\n      <th>1</th>\n      <td>108</td>\n      <td>22</td>\n      <td>181</td>\n      <td>24</td>\n      <td>N</td>\n      <td>32</td>\n      <td>F</td>\n      <td>N</td>\n      <td>N</td>\n      <td>192</td>\n    </tr>\n    <tr>\n      <th>2</th>\n      <td>86</td>\n      <td>0</td>\n      <td>239</td>\n      <td>20</td>\n      <td>N</td>\n      <td>60</td>\n      <td>F</td>\n      <td>N</td>\n      <td>N</td>\n      <td>121</td>\n    </tr>\n    <tr>\n      <th>3</th>\n      <td>80</td>\n      <td>36</td>\n      <td>164</td>\n      <td>31</td>\n      <td>Y</td>\n      <td>45</td>\n      <td>F</td>\n      <td>Y</td>\n      <td>N</td>\n      <td>141</td>\n    </tr>\n    <tr>\n      <th>4</th>\n      <td>66</td>\n      <td>36</td>\n      <td>185</td>\n      <td>23</td>\n      <td>N</td>\n      <td>39</td>\n      <td>F</td>\n      <td>N</td>\n      <td>N</td>\n      <td>63</td>\n    </tr>\n  </tbody>\n</table>\n</div>",
                        "text/plain": "   AVGHEARTBEATSPERMIN  PALPITATIONSPERDAY  CHOLESTEROL  BMI HEARTFAILURE  \\\n0                   93                  22          163   25            N   \n1                  108                  22          181   24            N   \n2                   86                   0          239   20            N   \n3                   80                  36          164   31            Y   \n4                   66                  36          185   23            N   \n\n   AGE SEX FAMILYHISTORY SMOKERLAST5YRS  EXERCISEMINPERWEEK  \n0   49   F             N              N                 110  \n1   32   F             N              N                 192  \n2   60   F             N              N                 121  \n3   45   F             Y              N                 141  \n4   39   F             N              N                  63  "
                    },
                    "execution_count": 8,
                    "metadata": {},
                    "output_type": "execute_result"
                }
            ],
            "source": "body = cos.get_object(Bucket='covid19-donotdelete-pr-im28vw91gfqqeg',Key='data-health.csv')['Body']\n# add missing __iter__ method, so pandas accepts body as file-like object\nif not hasattr(body, \"__iter__\"): body.__iter__ = types.MethodType( __iter__, body )\n\ndf_data_1 = pd.read_csv(body)\ndf_data_1.head()\n"
        },
        {
            "cell_type": "code",
            "execution_count": 9,
            "metadata": {},
            "outputs": [
                {
                    "name": "stdout",
                    "output_type": "stream",
                    "text": "filename-local.csv uploaded to IBM COS.\n"
                }
            ],
            "source": "\n    df_data_1.to_csv('novo_arquivo.csv', sep=',', encoding='utf-8')\n    try:\n        res=cos.upload_file(Filename='novo_arquivo.csv', Bucket='covid19-donotdelete-pr-im28vw91gfqqeg', Key='filename-at-cos.csv')\n    except Exception as e:\n        print(Exception, e)\n    else:\n        print(\"filename-local.csv uploaded to IBM COS.\")"
        },
        {
            "cell_type": "code",
            "execution_count": 10,
            "metadata": {},
            "outputs": [
                {
                    "data": {
                        "text/html": "<div>\n<style scoped>\n    .dataframe tbody tr th:only-of-type {\n        vertical-align: middle;\n    }\n\n    .dataframe tbody tr th {\n        vertical-align: top;\n    }\n\n    .dataframe thead th {\n        text-align: right;\n    }\n</style>\n<table border=\"1\" class=\"dataframe\">\n  <thead>\n    <tr style=\"text-align: right;\">\n      <th></th>\n      <th>Unnamed: 0</th>\n      <th>AVGHEARTBEATSPERMIN</th>\n      <th>PALPITATIONSPERDAY</th>\n      <th>CHOLESTEROL</th>\n      <th>BMI</th>\n      <th>HEARTFAILURE</th>\n      <th>AGE</th>\n      <th>SEX</th>\n      <th>FAMILYHISTORY</th>\n      <th>SMOKERLAST5YRS</th>\n      <th>EXERCISEMINPERWEEK</th>\n    </tr>\n  </thead>\n  <tbody>\n    <tr>\n      <th>0</th>\n      <td>0</td>\n      <td>93</td>\n      <td>22</td>\n      <td>163</td>\n      <td>25</td>\n      <td>N</td>\n      <td>49</td>\n      <td>F</td>\n      <td>N</td>\n      <td>N</td>\n      <td>110</td>\n    </tr>\n    <tr>\n      <th>1</th>\n      <td>1</td>\n      <td>108</td>\n      <td>22</td>\n      <td>181</td>\n      <td>24</td>\n      <td>N</td>\n      <td>32</td>\n      <td>F</td>\n      <td>N</td>\n      <td>N</td>\n      <td>192</td>\n    </tr>\n    <tr>\n      <th>2</th>\n      <td>2</td>\n      <td>86</td>\n      <td>0</td>\n      <td>239</td>\n      <td>20</td>\n      <td>N</td>\n      <td>60</td>\n      <td>F</td>\n      <td>N</td>\n      <td>N</td>\n      <td>121</td>\n    </tr>\n    <tr>\n      <th>3</th>\n      <td>3</td>\n      <td>80</td>\n      <td>36</td>\n      <td>164</td>\n      <td>31</td>\n      <td>Y</td>\n      <td>45</td>\n      <td>F</td>\n      <td>Y</td>\n      <td>N</td>\n      <td>141</td>\n    </tr>\n    <tr>\n      <th>4</th>\n      <td>4</td>\n      <td>66</td>\n      <td>36</td>\n      <td>185</td>\n      <td>23</td>\n      <td>N</td>\n      <td>39</td>\n      <td>F</td>\n      <td>N</td>\n      <td>N</td>\n      <td>63</td>\n    </tr>\n  </tbody>\n</table>\n</div>",
                        "text/plain": "   Unnamed: 0  AVGHEARTBEATSPERMIN  PALPITATIONSPERDAY  CHOLESTEROL  BMI  \\\n0           0                   93                  22          163   25   \n1           1                  108                  22          181   24   \n2           2                   86                   0          239   20   \n3           3                   80                  36          164   31   \n4           4                   66                  36          185   23   \n\n  HEARTFAILURE  AGE SEX FAMILYHISTORY SMOKERLAST5YRS  EXERCISEMINPERWEEK  \n0            N   49   F             N              N                 110  \n1            N   32   F             N              N                 192  \n2            N   60   F             N              N                 121  \n3            Y   45   F             Y              N                 141  \n4            N   39   F             N              N                  63  "
                    },
                    "execution_count": 10,
                    "metadata": {},
                    "output_type": "execute_result"
                }
            ],
            "source": "body = cos.get_object(Bucket='covid19-donotdelete-pr-im28vw91gfqqeg',Key='filename-at-cos.csv')['Body']\n# add missing __iter__ method, so pandas accepts body as file-like object\nif not hasattr(body, \"__iter__\"): body.__iter__ = types.MethodType( __iter__, body )\n\ndf = pd.read_csv(body)\ndf.head()"
        },
        {
            "cell_type": "code",
            "execution_count": null,
            "metadata": {},
            "outputs": [],
            "source": ""
        }
    ],
    "metadata": {
        "kernelspec": {
            "display_name": "Python 3.6",
            "language": "python",
            "name": "python3"
        },
        "language_info": {
            "codemirror_mode": {
                "name": "ipython",
                "version": 3
            },
            "file_extension": ".py",
            "mimetype": "text/x-python",
            "name": "python",
            "nbconvert_exporter": "python",
            "pygments_lexer": "ipython3",
            "version": "3.6.9"
        }
    },
    "nbformat": 4,
    "nbformat_minor": 1
}