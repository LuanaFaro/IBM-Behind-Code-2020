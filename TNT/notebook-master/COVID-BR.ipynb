{
    "cells": [
        {
            "cell_type": "code",
            "execution_count": 7,
            "metadata": {},
            "outputs": [],
            "source": "import pandas as pd\nfrom sqlalchemy import create_engine, MetaData, Table, Column, Integer, String, Date, Numeric, DateTime\nfrom sqlalchemy.orm import scoped_session, sessionmaker\nfrom sqlalchemy.ext.automap  import automap_base"
        },
        {
            "cell_type": "code",
            "execution_count": 8,
            "metadata": {},
            "outputs": [],
            "source": "# The code was removed by Watson Studio for sharing."
        },
        {
            "cell_type": "code",
            "execution_count": 9,
            "metadata": {},
            "outputs": [],
            "source": "#DB connection string\nconnection_string = \"db2+ibm_db://\" + user + \":\" + pwd + \"@dashdb-txn-flex-yp-dal13-43.services.dal.bluemix.net:50000/BLUDB\""
        },
        {
            "cell_type": "code",
            "execution_count": 10,
            "metadata": {},
            "outputs": [],
            "source": "\nengine = create_engine(connection_string, echo=False)\nmeta = MetaData()\n\nnome_tabela = 'COVID-BR'\n\ncovid = Table('COVID-BR', meta, \n    Column(\"COUNTRY\", String(30)),\n    Column(\"PROVINCE_STATE\", String(50)),\n    Column(\"CITY\", String(50)),\n    Column(\"IBGEID\", Integer),\n    Column(\"COD_REGIAODESAUDE\",Numeric(18,8)),\n    Column(\"NOME_REGIAODESAUDE\",String(50)),\n    Column(\"DEATHS\", Integer),\n    Column(\"CASES\", Integer),\n    Column(\"DEATHS_PER_100K_INHABITANTS\", Numeric(18,8)),\n    Column(\"TOTALCASES_PER_100K_INHABITANTS\", Numeric(18,8)),\n    Column(\"DEATHS_BY_TOTALCASES\", Numeric(18,8)),\n    Column(\"SOURCE\", String(10)),\n    Column(\"DATE\", Date),\n    Column(\"NEWCASES\", Integer),\n    Column(\"NEWDEATHS\",Integer),\n    Column(\"LAST_INFO_DATE\", Date))\n\n\n# date\tnewCases\tnewDeaths\n#'DEATHS_PER_100K_INHABITANTS','TOTALCASES_PER_100K_INHABITANTS','DEATHS_BY_TOTALCASES'\n\ndropTable = True\n\nif not engine.dialect.has_table(engine, nome_tabela, schema = 'BLUADMIN'):\n    meta.create_all(engine)\nelse:\n    if dropTable:\n        covid.drop(engine) # Apaga tabela\n        meta.create_all(engine) # Cria tabela\n    conn = engine.connect()\n    #stmt = covid.delete().where(students.c.lastname == 'Khanna')\n    stmt = covid.delete()\n    conn.execute(stmt)\n    conn.close()"
        },
        {
            "cell_type": "code",
            "execution_count": 11,
            "metadata": {},
            "outputs": [],
            "source": "Base = automap_base()\n\n#engine = create_engine(connection_string, echo=True)\nsession = scoped_session(sessionmaker(autocommit=True,\n                                      autoflush=False,\n                                      bind=engine))\n\nBase.prepare(engine, reflect=True)\nbase_sa = Base.classes"
        },
        {
            "cell_type": "code",
            "execution_count": 12,
            "metadata": {},
            "outputs": [
                {
                    "data": {
                        "text/html": "<div>\n<style scoped>\n    .dataframe tbody tr th:only-of-type {\n        vertical-align: middle;\n    }\n\n    .dataframe tbody tr th {\n        vertical-align: top;\n    }\n\n    .dataframe thead th {\n        text-align: right;\n    }\n</style>\n<table border=\"1\" class=\"dataframe\">\n  <thead>\n    <tr style=\"text-align: right;\">\n      <th></th>\n      <th>country</th>\n      <th>state</th>\n      <th>city</th>\n      <th>ibgeID</th>\n      <th>cod_RegiaoDeSaude</th>\n      <th>name_RegiaoDeSaude</th>\n      <th>deaths</th>\n      <th>totalCases</th>\n      <th>deaths_per_100k_inhabitants</th>\n      <th>totalCases_per_100k_inhabitants</th>\n      <th>deaths_by_totalCases</th>\n      <th>_source</th>\n      <th>date</th>\n      <th>newCases</th>\n      <th>newDeaths</th>\n      <th>last_info_date</th>\n    </tr>\n  </thead>\n  <tbody>\n    <tr>\n      <th>0</th>\n      <td>Brazil</td>\n      <td>GO</td>\n      <td>Abadia de Goi\u00e1s/GO</td>\n      <td>5200050</td>\n      <td>52001.0</td>\n      <td>Central</td>\n      <td>1</td>\n      <td>135</td>\n      <td>11.39861</td>\n      <td>1538.81226</td>\n      <td>0.00741</td>\n      <td>SES</td>\n      <td>2020-07-25</td>\n      <td>0</td>\n      <td>0</td>\n      <td>2020-07-25</td>\n    </tr>\n    <tr>\n      <th>1</th>\n      <td>Brazil</td>\n      <td>MG</td>\n      <td>Abadia dos Dourados/MG</td>\n      <td>3100104</td>\n      <td>31074.0</td>\n      <td>Patroc\u00ednio / Monte Carmelo</td>\n      <td>0</td>\n      <td>15</td>\n      <td>0.00000</td>\n      <td>214.62298</td>\n      <td>0.00000</td>\n      <td>SES</td>\n      <td>2020-07-25</td>\n      <td>0</td>\n      <td>0</td>\n      <td>2020-07-24</td>\n    </tr>\n    <tr>\n      <th>2</th>\n      <td>Brazil</td>\n      <td>GO</td>\n      <td>Abadi\u00e2nia/GO</td>\n      <td>5200100</td>\n      <td>52011.0</td>\n      <td>Pirineus</td>\n      <td>7</td>\n      <td>77</td>\n      <td>34.92665</td>\n      <td>384.19319</td>\n      <td>0.09091</td>\n      <td>SES</td>\n      <td>2020-07-25</td>\n      <td>0</td>\n      <td>0</td>\n      <td>2020-07-25</td>\n    </tr>\n    <tr>\n      <th>3</th>\n      <td>Brazil</td>\n      <td>PA</td>\n      <td>Abaetetuba/PA</td>\n      <td>1500107</td>\n      <td>15011.0</td>\n      <td>Tocantins</td>\n      <td>109</td>\n      <td>2598</td>\n      <td>69.11946</td>\n      <td>1647.45273</td>\n      <td>0.04196</td>\n      <td>SES</td>\n      <td>2020-07-25</td>\n      <td>0</td>\n      <td>0</td>\n      <td>2020-07-25</td>\n    </tr>\n    <tr>\n      <th>4</th>\n      <td>Brazil</td>\n      <td>MG</td>\n      <td>Abaet\u00e9/MG</td>\n      <td>3100203</td>\n      <td>31024.0</td>\n      <td>Sete Lagoas</td>\n      <td>0</td>\n      <td>26</td>\n      <td>0.00000</td>\n      <td>111.89052</td>\n      <td>0.00000</td>\n      <td>SES</td>\n      <td>2020-07-25</td>\n      <td>0</td>\n      <td>0</td>\n      <td>2020-07-24</td>\n    </tr>\n  </tbody>\n</table>\n</div>",
                        "text/plain": "  country state                    city   ibgeID  cod_RegiaoDeSaude  \\\n0  Brazil    GO      Abadia de Goi\u00e1s/GO  5200050            52001.0   \n1  Brazil    MG  Abadia dos Dourados/MG  3100104            31074.0   \n2  Brazil    GO            Abadi\u00e2nia/GO  5200100            52011.0   \n3  Brazil    PA           Abaetetuba/PA  1500107            15011.0   \n4  Brazil    MG               Abaet\u00e9/MG  3100203            31024.0   \n\n           name_RegiaoDeSaude  deaths  totalCases  \\\n0                     Central       1         135   \n1  Patroc\u00ednio / Monte Carmelo       0          15   \n2                    Pirineus       7          77   \n3                   Tocantins     109        2598   \n4                 Sete Lagoas       0          26   \n\n   deaths_per_100k_inhabitants  totalCases_per_100k_inhabitants  \\\n0                     11.39861                       1538.81226   \n1                      0.00000                        214.62298   \n2                     34.92665                        384.19319   \n3                     69.11946                       1647.45273   \n4                      0.00000                        111.89052   \n\n   deaths_by_totalCases _source        date  newCases  newDeaths  \\\n0               0.00741     SES  2020-07-25         0          0   \n1               0.00000     SES  2020-07-25         0          0   \n2               0.09091     SES  2020-07-25         0          0   \n3               0.04196     SES  2020-07-25         0          0   \n4               0.00000     SES  2020-07-25         0          0   \n\n  last_info_date  \n0     2020-07-25  \n1     2020-07-24  \n2     2020-07-25  \n3     2020-07-25  \n4     2020-07-24  "
                    },
                    "execution_count": 12,
                    "metadata": {},
                    "output_type": "execute_result"
                }
            ],
            "source": "df = pd.read_csv('https://raw.githubusercontent.com/wcota/covid19br/master/cases-brazil-cities.csv')\ndf.head()"
        },
        {
            "cell_type": "code",
            "execution_count": 13,
            "metadata": {},
            "outputs": [
                {
                    "data": {
                        "text/html": "<div>\n<style scoped>\n    .dataframe tbody tr th:only-of-type {\n        vertical-align: middle;\n    }\n\n    .dataframe tbody tr th {\n        vertical-align: top;\n    }\n\n    .dataframe thead th {\n        text-align: right;\n    }\n</style>\n<table border=\"1\" class=\"dataframe\">\n  <thead>\n    <tr style=\"text-align: right;\">\n      <th></th>\n      <th>COUNTRY</th>\n      <th>PROVINCE_STATE</th>\n      <th>CITY</th>\n      <th>IBGEID</th>\n      <th>COD_REGIAODESAUDE</th>\n      <th>NOME_REGIAODESAUDE</th>\n      <th>DEATHS</th>\n      <th>CASES</th>\n      <th>DEATHS_PER_100K_INHABITANTS</th>\n      <th>TOTALCASES_PER_100K_INHABITANTS</th>\n      <th>DEATHS_BY_TOTALCASES</th>\n      <th>SOURCE</th>\n      <th>DATE</th>\n      <th>NEWCASES</th>\n      <th>NEWDEATHS</th>\n      <th>LAST_INFO_DATE</th>\n    </tr>\n  </thead>\n  <tbody>\n    <tr>\n      <th>0</th>\n      <td>Brazil</td>\n      <td>GO</td>\n      <td>Abadia de Goi\u00e1s/GO</td>\n      <td>5200050</td>\n      <td>52001.0</td>\n      <td>Central</td>\n      <td>1</td>\n      <td>135</td>\n      <td>11.39861</td>\n      <td>1538.81226</td>\n      <td>0.00741</td>\n      <td>SES</td>\n      <td>2020-07-25</td>\n      <td>0</td>\n      <td>0</td>\n      <td>2020-07-25</td>\n    </tr>\n    <tr>\n      <th>1</th>\n      <td>Brazil</td>\n      <td>MG</td>\n      <td>Abadia dos Dourados/MG</td>\n      <td>3100104</td>\n      <td>31074.0</td>\n      <td>Patroc\u00ednio / Monte Carmelo</td>\n      <td>0</td>\n      <td>15</td>\n      <td>0.00000</td>\n      <td>214.62298</td>\n      <td>0.00000</td>\n      <td>SES</td>\n      <td>2020-07-25</td>\n      <td>0</td>\n      <td>0</td>\n      <td>2020-07-24</td>\n    </tr>\n    <tr>\n      <th>2</th>\n      <td>Brazil</td>\n      <td>GO</td>\n      <td>Abadi\u00e2nia/GO</td>\n      <td>5200100</td>\n      <td>52011.0</td>\n      <td>Pirineus</td>\n      <td>7</td>\n      <td>77</td>\n      <td>34.92665</td>\n      <td>384.19319</td>\n      <td>0.09091</td>\n      <td>SES</td>\n      <td>2020-07-25</td>\n      <td>0</td>\n      <td>0</td>\n      <td>2020-07-25</td>\n    </tr>\n    <tr>\n      <th>3</th>\n      <td>Brazil</td>\n      <td>PA</td>\n      <td>Abaetetuba/PA</td>\n      <td>1500107</td>\n      <td>15011.0</td>\n      <td>Tocantins</td>\n      <td>109</td>\n      <td>2598</td>\n      <td>69.11946</td>\n      <td>1647.45273</td>\n      <td>0.04196</td>\n      <td>SES</td>\n      <td>2020-07-25</td>\n      <td>0</td>\n      <td>0</td>\n      <td>2020-07-25</td>\n    </tr>\n    <tr>\n      <th>4</th>\n      <td>Brazil</td>\n      <td>MG</td>\n      <td>Abaet\u00e9/MG</td>\n      <td>3100203</td>\n      <td>31024.0</td>\n      <td>Sete Lagoas</td>\n      <td>0</td>\n      <td>26</td>\n      <td>0.00000</td>\n      <td>111.89052</td>\n      <td>0.00000</td>\n      <td>SES</td>\n      <td>2020-07-25</td>\n      <td>0</td>\n      <td>0</td>\n      <td>2020-07-24</td>\n    </tr>\n  </tbody>\n</table>\n</div>",
                        "text/plain": "  COUNTRY PROVINCE_STATE                    CITY   IBGEID  COD_REGIAODESAUDE  \\\n0  Brazil             GO      Abadia de Goi\u00e1s/GO  5200050            52001.0   \n1  Brazil             MG  Abadia dos Dourados/MG  3100104            31074.0   \n2  Brazil             GO            Abadi\u00e2nia/GO  5200100            52011.0   \n3  Brazil             PA           Abaetetuba/PA  1500107            15011.0   \n4  Brazil             MG               Abaet\u00e9/MG  3100203            31024.0   \n\n           NOME_REGIAODESAUDE  DEATHS  CASES  DEATHS_PER_100K_INHABITANTS  \\\n0                     Central       1    135                     11.39861   \n1  Patroc\u00ednio / Monte Carmelo       0     15                      0.00000   \n2                    Pirineus       7     77                     34.92665   \n3                   Tocantins     109   2598                     69.11946   \n4                 Sete Lagoas       0     26                      0.00000   \n\n   TOTALCASES_PER_100K_INHABITANTS  DEATHS_BY_TOTALCASES SOURCE        DATE  \\\n0                       1538.81226               0.00741    SES  2020-07-25   \n1                        214.62298               0.00000    SES  2020-07-25   \n2                        384.19319               0.09091    SES  2020-07-25   \n3                       1647.45273               0.04196    SES  2020-07-25   \n4                        111.89052               0.00000    SES  2020-07-25   \n\n   NEWCASES  NEWDEATHS LAST_INFO_DATE  \n0         0          0     2020-07-25  \n1         0          0     2020-07-24  \n2         0          0     2020-07-25  \n3         0          0     2020-07-25  \n4         0          0     2020-07-24  "
                    },
                    "execution_count": 13,
                    "metadata": {},
                    "output_type": "execute_result"
                }
            ],
            "source": "df.columns = ['COUNTRY','PROVINCE_STATE','CITY',\n                     'IBGEID','COD_REGIAODESAUDE','NOME_REGIAODESAUDE','DEATHS','CASES','DEATHS_PER_100K_INHABITANTS',\n              'TOTALCASES_PER_100K_INHABITANTS','DEATHS_BY_TOTALCASES','SOURCE','DATE',\n              'NEWCASES','NEWDEATHS','LAST_INFO_DATE']\ndf.head()"
        },
        {
            "cell_type": "code",
            "execution_count": 14,
            "metadata": {},
            "outputs": [],
            "source": "nome_tabela = 'COVID-BR'"
        },
        {
            "cell_type": "code",
            "execution_count": 15,
            "metadata": {
                "scrolled": true
            },
            "outputs": [],
            "source": "df.to_sql(name=nome_tabela, con=engine, if_exists='append', index=False)\n#df.to_sql(name=nome_tabela, con=engine, if_exists='append', index=False, chunksize=1000)   # With number of records to be processed each time"
        },
        {
            "cell_type": "code",
            "execution_count": 16,
            "metadata": {},
            "outputs": [
                {
                    "data": {
                        "text/html": "<div>\n<style scoped>\n    .dataframe tbody tr th:only-of-type {\n        vertical-align: middle;\n    }\n\n    .dataframe tbody tr th {\n        vertical-align: top;\n    }\n\n    .dataframe thead th {\n        text-align: right;\n    }\n</style>\n<table border=\"1\" class=\"dataframe\">\n  <thead>\n    <tr style=\"text-align: right;\">\n      <th></th>\n      <th>country</th>\n      <th>province_state</th>\n      <th>city</th>\n      <th>ibgeid</th>\n      <th>cod_regiaodesaude</th>\n      <th>nome_regiaodesaude</th>\n      <th>deaths</th>\n      <th>cases</th>\n      <th>deaths_per_100k_inhabitants</th>\n      <th>totalcases_per_100k_inhabitants</th>\n      <th>deaths_by_totalcases</th>\n      <th>SOURCE</th>\n      <th>DATE</th>\n      <th>newcases</th>\n      <th>newdeaths</th>\n      <th>last_info_date</th>\n    </tr>\n  </thead>\n  <tbody>\n    <tr>\n      <th>0</th>\n      <td>Brazil</td>\n      <td>GO</td>\n      <td>Abadia de Goi\u00e1s/GO</td>\n      <td>5200050</td>\n      <td>52001.0</td>\n      <td>Central</td>\n      <td>1</td>\n      <td>135</td>\n      <td>11.39861</td>\n      <td>1538.81226</td>\n      <td>0.00741</td>\n      <td>SES</td>\n      <td>2020-07-25</td>\n      <td>0</td>\n      <td>0</td>\n      <td>2020-07-25</td>\n    </tr>\n    <tr>\n      <th>1</th>\n      <td>Brazil</td>\n      <td>MG</td>\n      <td>Abadia dos Dourados/MG</td>\n      <td>3100104</td>\n      <td>31074.0</td>\n      <td>Patroc\u00ednio / Monte Carmelo</td>\n      <td>0</td>\n      <td>15</td>\n      <td>0.00000</td>\n      <td>214.62298</td>\n      <td>0.00000</td>\n      <td>SES</td>\n      <td>2020-07-25</td>\n      <td>0</td>\n      <td>0</td>\n      <td>2020-07-24</td>\n    </tr>\n    <tr>\n      <th>2</th>\n      <td>Brazil</td>\n      <td>GO</td>\n      <td>Abadi\u00e2nia/GO</td>\n      <td>5200100</td>\n      <td>52011.0</td>\n      <td>Pirineus</td>\n      <td>7</td>\n      <td>77</td>\n      <td>34.92665</td>\n      <td>384.19319</td>\n      <td>0.09091</td>\n      <td>SES</td>\n      <td>2020-07-25</td>\n      <td>0</td>\n      <td>0</td>\n      <td>2020-07-25</td>\n    </tr>\n    <tr>\n      <th>3</th>\n      <td>Brazil</td>\n      <td>PA</td>\n      <td>Abaetetuba/PA</td>\n      <td>1500107</td>\n      <td>15011.0</td>\n      <td>Tocantins</td>\n      <td>109</td>\n      <td>2598</td>\n      <td>69.11946</td>\n      <td>1647.45273</td>\n      <td>0.04196</td>\n      <td>SES</td>\n      <td>2020-07-25</td>\n      <td>0</td>\n      <td>0</td>\n      <td>2020-07-25</td>\n    </tr>\n    <tr>\n      <th>4</th>\n      <td>Brazil</td>\n      <td>MG</td>\n      <td>Abaet\u00e9/MG</td>\n      <td>3100203</td>\n      <td>31024.0</td>\n      <td>Sete Lagoas</td>\n      <td>0</td>\n      <td>26</td>\n      <td>0.00000</td>\n      <td>111.89052</td>\n      <td>0.00000</td>\n      <td>SES</td>\n      <td>2020-07-25</td>\n      <td>0</td>\n      <td>0</td>\n      <td>2020-07-24</td>\n    </tr>\n  </tbody>\n</table>\n</div>",
                        "text/plain": "  country province_state                    city   ibgeid  cod_regiaodesaude  \\\n0  Brazil             GO      Abadia de Goi\u00e1s/GO  5200050            52001.0   \n1  Brazil             MG  Abadia dos Dourados/MG  3100104            31074.0   \n2  Brazil             GO            Abadi\u00e2nia/GO  5200100            52011.0   \n3  Brazil             PA           Abaetetuba/PA  1500107            15011.0   \n4  Brazil             MG               Abaet\u00e9/MG  3100203            31024.0   \n\n           nome_regiaodesaude  deaths  cases  deaths_per_100k_inhabitants  \\\n0                     Central       1    135                     11.39861   \n1  Patroc\u00ednio / Monte Carmelo       0     15                      0.00000   \n2                    Pirineus       7     77                     34.92665   \n3                   Tocantins     109   2598                     69.11946   \n4                 Sete Lagoas       0     26                      0.00000   \n\n   totalcases_per_100k_inhabitants  deaths_by_totalcases SOURCE       DATE  \\\n0                       1538.81226               0.00741    SES 2020-07-25   \n1                        214.62298               0.00000    SES 2020-07-25   \n2                        384.19319               0.09091    SES 2020-07-25   \n3                       1647.45273               0.04196    SES 2020-07-25   \n4                        111.89052               0.00000    SES 2020-07-25   \n\n   newcases  newdeaths last_info_date  \n0         0          0     2020-07-25  \n1         0          0     2020-07-24  \n2         0          0     2020-07-25  \n3         0          0     2020-07-25  \n4         0          0     2020-07-24  "
                    },
                    "execution_count": 16,
                    "metadata": {},
                    "output_type": "execute_result"
                }
            ],
            "source": "df2 = pd.read_sql_table(nome_tabela, engine)\ndf2.head()"
        },
        {
            "cell_type": "code",
            "execution_count": 17,
            "metadata": {},
            "outputs": [],
            "source": "session.close()"
        },
        {
            "cell_type": "code",
            "execution_count": null,
            "metadata": {},
            "outputs": [],
            "source": ""
        }
    ],
    "metadata": {
        "kernelspec": {
            "display_name": "Python 3.6",
            "language": "python",
            "name": "python3"
        },
        "language_info": {
            "codemirror_mode": {
                "name": "ipython",
                "version": 3
            },
            "file_extension": ".py",
            "mimetype": "text/x-python",
            "name": "python",
            "nbconvert_exporter": "python",
            "pygments_lexer": "ipython3",
            "version": "3.6.9"
        }
    },
    "nbformat": 4,
    "nbformat_minor": 1
}